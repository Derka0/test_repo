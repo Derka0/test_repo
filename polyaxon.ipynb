{
 "cells": [
  {
   "cell_type": "code",
   "execution_count": null,
   "metadata": {},
   "outputs": [],
   "source": [
    "from polyaxon_client import PolyaxonClient\n",
    "polyaxon_client = PolyaxonClient(\n",
    "    host=\"35.192.178.84\",\n",
    "    token=\"\", http_port=\"80\",\n",
    "    ws_port=\"1337\")\n",
    "\n",
    "polyaxon_client.project.list_projects(\"root\", page=1)\n",
    "\n",
    "from polyaxon_client.tracking import Experiment\n",
    "experiment = Experiment(\n",
    "    project=None,\n",
    "    experiment_id=None,\n",
    "    group_id=None,\n",
    "    client=None,\n",
    "    track_logs=True,\n",
    "    track_env=True,\n",
    "    outputs_store=None)\n",
    "\n",
    "experiment.create()\n",
    "\n",
    "experiment.log_metrics(step=123, loss=0.023, accuracy=0.91)\n",
    "\n",
    "experiment.log_params(activation='sigmoid', lr=0.001)"
   ]
  }
 ],
 "metadata": {
  "kernelspec": {
   "display_name": "Python 3",
   "language": "python",
   "name": "python3"
  },
  "language_info": {
   "codemirror_mode": {
    "name": "ipython",
    "version": 3
   },
   "file_extension": ".py",
   "mimetype": "text/x-python",
   "name": "python",
   "nbconvert_exporter": "python",
   "pygments_lexer": "ipython3",
   "version": "3.6.8"
  }
 },
 "nbformat": 4,
 "nbformat_minor": 2
}
